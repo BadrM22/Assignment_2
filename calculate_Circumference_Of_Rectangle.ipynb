{
 "cells": [
  {
   "cell_type": "code",
   "execution_count": 1,
   "id": "arabic-update",
   "metadata": {},
   "outputs": [
    {
     "name": "stdout",
     "output_type": "stream",
     "text": [
      "Enter rectangle lenght: 10\n",
      "Enter rectangle width: 20\n",
      "60.0\n"
     ]
    }
   ],
   "source": [
    "lenght = float(input(\"Enter rectangle lenght: \"))\n",
    "width = float(input(\"Enter rectangle width: \"))\n",
    "\n",
    "result = 2 * (lenght + width)\n",
    "print(result)"
   ]
  }
 ],
 "metadata": {
  "kernelspec": {
   "display_name": "Python 3",
   "language": "python",
   "name": "python3"
  },
  "language_info": {
   "codemirror_mode": {
    "name": "ipython",
    "version": 3
   },
   "file_extension": ".py",
   "mimetype": "text/x-python",
   "name": "python",
   "nbconvert_exporter": "python",
   "pygments_lexer": "ipython3",
   "version": "3.9.1"
  }
 },
 "nbformat": 4,
 "nbformat_minor": 5
}
